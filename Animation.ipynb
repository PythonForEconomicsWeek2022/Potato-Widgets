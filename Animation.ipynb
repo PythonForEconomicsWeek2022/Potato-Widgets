{
 "cells": [
  {
   "cell_type": "markdown",
   "metadata": {},
   "source": [
    "## Visualising residuals\n",
    "- We aim to visualise residuals from different regression specifications to highlight the types of errors\n",
    "- The UK is chosen to be the reference country"
   ]
  },
  {
   "cell_type": "code",
   "execution_count": 1,
   "metadata": {},
   "outputs": [],
   "source": [
    "import pandas as pd\n",
    "import plotly.express as px\n",
    "import matplotlib.pyplot as plt\n",
    "import numpy as np\n",
    "import seaborn as sns; sns.set(style=\"ticks\", color_codes=True)\n",
    "import geopandas as gpd\n",
    "from geopandas import GeoDataFrame"
   ]
  },
  {
   "cell_type": "code",
   "execution_count": 2,
   "metadata": {},
   "outputs": [],
   "source": [
    "world = gpd.read_file(gpd.datasets.get_path('naturalearth_lowres'))"
   ]
  },
  {
   "cell_type": "code",
   "execution_count": 31,
   "metadata": {
    "scrolled": true
   },
   "outputs": [
    {
     "data": {
      "text/html": [
       "<div>\n",
       "<style scoped>\n",
       "    .dataframe tbody tr th:only-of-type {\n",
       "        vertical-align: middle;\n",
       "    }\n",
       "\n",
       "    .dataframe tbody tr th {\n",
       "        vertical-align: top;\n",
       "    }\n",
       "\n",
       "    .dataframe thead th {\n",
       "        text-align: right;\n",
       "    }\n",
       "</style>\n",
       "<table border=\"1\" class=\"dataframe\">\n",
       "  <thead>\n",
       "    <tr style=\"text-align: right;\">\n",
       "      <th></th>\n",
       "      <th>year</th>\n",
       "      <th>iso3_d</th>\n",
       "      <th>iso3_o</th>\n",
       "      <th>prediction</th>\n",
       "    </tr>\n",
       "  </thead>\n",
       "  <tbody>\n",
       "    <tr>\n",
       "      <th>0</th>\n",
       "      <td>2010</td>\n",
       "      <td>GBR</td>\n",
       "      <td>GBR</td>\n",
       "      <td>124</td>\n",
       "    </tr>\n",
       "    <tr>\n",
       "      <th>1</th>\n",
       "      <td>2008</td>\n",
       "      <td>GBR</td>\n",
       "      <td>ITA</td>\n",
       "      <td>1000</td>\n",
       "    </tr>\n",
       "    <tr>\n",
       "      <th>2</th>\n",
       "      <td>2009</td>\n",
       "      <td>GBR</td>\n",
       "      <td>ITA</td>\n",
       "      <td>9000</td>\n",
       "    </tr>\n",
       "    <tr>\n",
       "      <th>3</th>\n",
       "      <td>2008</td>\n",
       "      <td>ITA</td>\n",
       "      <td>GBR</td>\n",
       "      <td>1000</td>\n",
       "    </tr>\n",
       "  </tbody>\n",
       "</table>\n",
       "</div>"
      ],
      "text/plain": [
       "   year iso3_d iso3_o  prediction\n",
       "0  2010    GBR    GBR         124\n",
       "1  2008    GBR    ITA        1000\n",
       "2  2009    GBR    ITA        9000\n",
       "3  2008    ITA    GBR        1000"
      ]
     },
     "execution_count": 31,
     "metadata": {},
     "output_type": "execute_result"
    }
   ],
   "source": [
    "test = pd.DataFrame([[2010,'GBR','GBR',124],[2008,'GBR','ITA',1000],[2009,'GBR','ITA',9000],[2008,'ITA','GBR',1000]], columns=['year', 'iso3_d', 'iso3_o', 'prediction'])\n",
    "test"
   ]
  },
  {
   "cell_type": "markdown",
   "metadata": {},
   "source": [
    "## Defining the visualisation function\n",
    "- The ```animate()``` function takes the name of a reference country and a dataframe containing a column named ```prediction```\n",
    "- It then uses plotly to generate a choropleth map animated over time"
   ]
  },
  {
   "cell_type": "code",
   "execution_count": 42,
   "metadata": {},
   "outputs": [],
   "source": [
    "data = pd.read_csv('cleaned.csv')\n",
    "\n",
    "#Takes the ISO code of country and a dataframe containing predicted values under a column named 'prediction'\n",
    "def animate(country, predicted):\n",
    "    actual = data[data['iso3_d'] == country][['year','iso3_o','tradeflow']]\n",
    "    predictions = predicted[predicted['iso3_d'] == country][['year', 'iso3_o', 'prediction']]\n",
    "    \n",
    "    merged = pd.merge(predictions,actual,on=['year','iso3_o'],how='left')\n",
    "    merged = merged.drop(merged[merged['tradeflow'].isna()].index)\n",
    "    merged['error'] = merged['prediction']-np.log(merged['tradeflow'])\n",
    "    fig = px.choropleth_mapbox(merged,\n",
    "        geojson=world,\n",
    "        animation_frame='year',\n",
    "        featureidkey='properties.iso_a3',\n",
    "        locations='iso3_o',\n",
    "        center={'lat':50, 'lon':0},\n",
    "        color='error',\n",
    "        range_color=[merged['error'].min(), merged['error'].max()],\n",
    "        width=950,\n",
    "        height=600,\n",
    "        color_continuous_scale=['darkred', 'lime'],\n",
    "        mapbox_style='carto-positron',\n",
    "        zoom=2)\n",
    "    fig.show()\n"
   ]
  },
  {
   "cell_type": "code",
   "execution_count": 37,
   "metadata": {},
   "outputs": [],
   "source": [
    "df = data.copy()\n",
    "import pandas as pd\n",
    "import statsmodels.api as sm\n",
    "import numpy as np\n",
    "\n",
    "\n",
    "spec1_df1 = df.copy()\n",
    "X = np.log(df1[['gdp_o','gdp_d','distw']])\n",
    "# X = pd.DataFrame(np.log(df1['gdp_o']), np.log(df1['gdp_d']), np.log(df1['distw']))\n",
    "Y = np.log(df1['tradeflow'])\n",
    "\n",
    "X = sm.add_constant(X)\n",
    "\n",
    "model = sm.OLS(Y, X)\n",
    "\n",
    "results = model.fit()\n",
    "\n",
    "predicted_values = results.fittedvalues\n",
    "\n",
    "# print(predicted_values)\n",
    "\n",
    "spec1_df1['prediction'] = predicted_values\n"
   ]
  }
 ],
 "metadata": {
  "kernelspec": {
   "display_name": "Python 3",
   "language": "python",
   "name": "python3"
  },
  "language_info": {
   "codemirror_mode": {
    "name": "ipython",
    "version": 3
   },
   "file_extension": ".py",
   "mimetype": "text/x-python",
   "name": "python",
   "nbconvert_exporter": "python",
   "pygments_lexer": "ipython3",
   "version": "3.8.5"
  }
 },
 "nbformat": 4,
 "nbformat_minor": 4
}
