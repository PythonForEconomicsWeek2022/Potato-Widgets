{
 "cells": [
  {
   "cell_type": "markdown",
   "metadata": {},
   "source": [
    "## We require four subsets for the regression analysis\n",
    "- All data\n",
    "- Countries with above average trade with UK\n",
    "- OECD countries\n",
    "- EU countries"
   ]
  },
  {
   "cell_type": "code",
   "execution_count": 11,
   "metadata": {
    "scrolled": false
   },
   "outputs": [],
   "source": [
    "import pandas as pd\n",
    "\n",
    "df = pd.read_csv('cleaned.csv')"
   ]
  },
  {
   "cell_type": "code",
   "execution_count": 12,
   "metadata": {},
   "outputs": [],
   "source": [
    "df1 = df.copy()"
   ]
  },
  {
   "cell_type": "code",
   "execution_count": 13,
   "metadata": {},
   "outputs": [],
   "source": [
    "#We define a descending list of average trade with UK and use it to get subset 2\n",
    "import math\n",
    "\n",
    "tradeflows = df[df['iso3_d'] == 'GBR'].groupby('iso3_o').mean()['tradeflow'].sort_values(ascending=False)\n",
    "above_average = list(tradeflows[0:math.floor(len(tradeflows)/2)].index)\n",
    "\n",
    "df2 = df[(df['iso3_d'] == 'GBR') & df['iso3_o'].isin(above_average)].copy()"
   ]
  },
  {
   "cell_type": "code",
   "execution_count": 14,
   "metadata": {},
   "outputs": [],
   "source": [
    "#Creating subset 3, using a list of all OECD countries (with iso codes)\n",
    "OECD = ['AUS', 'AUT', 'BEL', 'CAN','CHE', 'CHL', 'COL', 'CRI', 'CZE', 'DEU', 'DNK', 'ESP', 'EST', 'FIN', 'FRA', 'GBR', 'GRC', 'HUN', 'IRL', 'ISL', 'ISR', 'ITA', 'JPN', 'KOR', 'LTU', 'LUX', 'LVA', 'MEX', 'NLD', 'NOR', 'NZL', 'POL', 'PRT', 'SVK', 'SVN', 'SWE', 'TUR', 'USA']\n",
    "\n",
    "df3 = df[df['iso3_o'].isin(OECD) & df['iso3_d'].isin(OECD)].copy()"
   ]
  },
  {
   "cell_type": "code",
   "execution_count": 15,
   "metadata": {
    "scrolled": false
   },
   "outputs": [],
   "source": [
    "#Creating subset 4\n",
    "df4 = df[df['both_eu'] == 1].copy()"
   ]
  }
 ],
 "metadata": {
  "kernelspec": {
   "display_name": "Python 3",
   "language": "python",
   "name": "python3"
  },
  "language_info": {
   "codemirror_mode": {
    "name": "ipython",
    "version": 3
   },
   "file_extension": ".py",
   "mimetype": "text/x-python",
   "name": "python",
   "nbconvert_exporter": "python",
   "pygments_lexer": "ipython3",
   "version": "3.8.5"
  }
 },
 "nbformat": 4,
 "nbformat_minor": 4
}
