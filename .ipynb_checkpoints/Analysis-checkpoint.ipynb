{
 "cells": [
  {
   "cell_type": "markdown",
   "metadata": {},
   "source": [
    "## We require four subsets for the regression analysis\n",
    "- All data\n",
    "- Countries with above average trade with UK\n",
    "- OECD countries\n",
    "- EU countries"
   ]
  },
  {
   "cell_type": "code",
   "execution_count": 1,
   "metadata": {
    "scrolled": false
   },
   "outputs": [],
   "source": [
    "import pandas as pd\n",
    "\n",
    "df = pd.read_csv('./data/cleaned.csv')"
   ]
  },
  {
   "cell_type": "code",
   "execution_count": 2,
   "metadata": {},
   "outputs": [],
   "source": [
    "df1 = df.copy()"
   ]
  },
  {
   "cell_type": "code",
   "execution_count": 3,
   "metadata": {},
   "outputs": [],
   "source": [
    "#We define a descending list of average trade with UK and use it to get subset 2\n",
    "import math\n",
    "\n",
    "tradeflows = df[df['iso3_d'] == 'GBR'].groupby('iso3_o').mean()['ltradeflow'].sort_values(ascending=False)\n",
    "above_average = list(tradeflows[0:math.floor(len(tradeflows)/2)].index)\n",
    "\n",
    "df2 = df[(df['iso3_d'] == 'GBR') & df['iso3_o'].isin(above_average)].copy()"
   ]
  },
  {
   "cell_type": "code",
   "execution_count": 4,
   "metadata": {},
   "outputs": [],
   "source": [
    "#Creating subset 3, using a list of all OECD countries (with iso codes)\n",
    "OECD = ['AUS', 'AUT', 'BEL', 'CAN','CHE', 'CHL', 'COL', 'CRI', 'CZE', 'DEU', 'DNK', 'ESP', 'EST', 'FIN', 'FRA', 'GBR', 'GRC', 'HUN', 'IRL', 'ISL', 'ISR', 'ITA', 'JPN', 'KOR', 'LTU', 'LUX', 'LVA', 'MEX', 'NLD', 'NOR', 'NZL', 'POL', 'PRT', 'SVK', 'SVN', 'SWE', 'TUR', 'USA']\n",
    "\n",
    "df3 = df[df['iso3_o'].isin(OECD) & df['iso3_d'].isin(OECD)].copy()"
   ]
  },
  {
   "cell_type": "code",
   "execution_count": 5,
   "metadata": {
    "scrolled": false
   },
   "outputs": [],
   "source": [
    "#Creating subset 4\n",
    "df4 = df[df['both_eu'] == 1].copy()"
   ]
  },
  {
   "cell_type": "markdown",
   "metadata": {},
   "source": [
    "## De-meaning for fixed effects regression\n",
    "- In the fixed effects model, we include importer and exporter dummies for each time period\n",
    "- There will be approximately 20,000 dummies if estimated directly, so use double de-meaning instead\n",
    "- We de-mean in the exporter (origin) dimension first, and then the importer (destination) dimension"
   ]
  },
  {
   "cell_type": "code",
   "execution_count": 6,
   "metadata": {},
   "outputs": [],
   "source": [
    "df_fe = pd.read_csv('./data/cleaned_fe.csv')"
   ]
  },
  {
   "cell_type": "code",
   "execution_count": 7,
   "metadata": {},
   "outputs": [],
   "source": [
    "def demean(df, fe1, fe2):\n",
    "    data = df.copy()\n",
    "    \n",
    "    data['fe1'] = ''\n",
    "    data['fe2'] = ''\n",
    "    for column in fe1: \n",
    "        data['fe1'] += data[column].astype('str')\n",
    "    for column in fe2:\n",
    "        data['fe2'] += data[column].astype('str')\n",
    "    \n",
    "#     demeaner1 = data.drop('fe2', axis=1).groupby('fe1').mean()\n",
    "#     demeaner1 = data[['fe1']].join(demeaner1, on='fe1')\\\n",
    "#                 .drop(['fe1'], axis=1)\n",
    "#     demeaner2 = data.drop('fe1', axis=1).groupby('fe2').mean()\n",
    "#     demeaner2 = data[['fe2']].join(demeaner2, on='fe2')\\\n",
    "#             .drop(['fe2'], axis=1)\n",
    "#     data = data.drop(['fe1', 'fe2'], axis=1)\n",
    "#     result = data - demeaner1 - demeaner2 + data.mean()\n",
    "#     result[fe1] = df[fe1]\n",
    "#     result[fe2] = df[fe2]\n",
    "#     return result\n",
    "\n",
    "demeaned = demean(df_fe, ['iso3_o','year'], ['iso3_d','year'])\n"
   ]
  },
  {
   "cell_type": "markdown",
   "metadata": {},
   "source": [
    "## Visualising residuals\n",
    "- We aim to visualise residuals from different regression specifications to highlight the types of errors\n",
    "- The UK is chosen to be the reference country"
   ]
  },
  {
   "cell_type": "code",
   "execution_count": 8,
   "metadata": {},
   "outputs": [],
   "source": [
    "import pandas as pd\n",
    "import plotly.express as px\n",
    "import matplotlib.pyplot as plt\n",
    "import numpy as np\n",
    "import seaborn as sns; sns.set(style=\"ticks\", color_codes=True)\n",
    "import geopandas as gpd\n",
    "from geopandas import GeoDataFrame"
   ]
  },
  {
   "cell_type": "code",
   "execution_count": 9,
   "metadata": {},
   "outputs": [],
   "source": [
    "world = gpd.read_file(gpd.datasets.get_path('naturalearth_lowres'))"
   ]
  },
  {
   "cell_type": "markdown",
   "metadata": {},
   "source": [
    "### Defining the visualisation function\n",
    "- The ```animate()``` function takes the name of a reference country and a dataframe containing a column named ```prediction```\n",
    "- It then uses plotly to generate a choropleth map animated over time"
   ]
  },
  {
   "cell_type": "code",
   "execution_count": 10,
   "metadata": {},
   "outputs": [],
   "source": [
    "#Takes the ISO code of country and a dataframe containing predicted values under a column named 'prediction'\n",
    "def animate(country, predicted):\n",
    "    actual = predicted[predicted['iso3_d'] == country][['year','iso3_o','ltradeflow']]\n",
    "    predictions = predicted[predicted['iso3_d'] == country][['year', 'iso3_o', 'prediction']]\n",
    "    \n",
    "    merged = pd.merge(predictions,actual,on=['year','iso3_o'],how='left')\n",
    "    merged = merged.drop(merged[merged['ltradeflow'].isna()].index)\n",
    "    merged['error'] = merged['prediction']-merged['ltradeflow']\n",
    "    merged = merged.sort_values('year', ascending=True)\n",
    "    fig = px.choropleth_mapbox(merged,\n",
    "        geojson=world,\n",
    "        animation_frame='year',\n",
    "        featureidkey='properties.iso_a3',\n",
    "        locations='iso3_o',\n",
    "        center={'lat':50, 'lon':0},\n",
    "        color='error',\n",
    "        range_color=[merged['error'].min(), merged['error'].max()],\n",
    "        width=950,\n",
    "        height=600,\n",
    "        color_continuous_scale=['darkred', 'lime'],\n",
    "        mapbox_style='carto-positron',\n",
    "        zoom=2)\n",
    "    fig.show()\n"
   ]
  },
  {
   "cell_type": "markdown",
   "metadata": {},
   "source": [
    "## Regression function (OLS)\n",
    "- We define a ```run_reg_ols``` function which takes three dataframes: the outcome variable, the regressors, and the entire data matrix.\n",
    "- This function returns a dataframe containing a 'prediction' column, so it can be chained with animation"
   ]
  },
  {
   "cell_type": "code",
   "execution_count": 11,
   "metadata": {
    "scrolled": true
   },
   "outputs": [],
   "source": [
    "import statsmodels.api as sm\n",
    "import numpy as np\n",
    "\n",
    "#Regression function for OLS\n",
    "def run_reg_ols(y,X,full):\n",
    "    model = sm.OLS(y,sm.add_constant(X))\n",
    "    results = model.fit()\n",
    "    predicted_values = results.fittedvalues\n",
    "    \n",
    "    full['prediction'] = predicted_values\n",
    "    \n",
    "    return full"
   ]
  },
  {
   "cell_type": "markdown",
   "metadata": {},
   "source": [
    "df1 spec1 (OLS)"
   ]
  },
  {
   "cell_type": "markdown",
   "metadata": {},
   "source": [
    "df4 spec1 (OLS)"
   ]
  },
  {
   "cell_type": "markdown",
   "metadata": {},
   "source": [
    "df1 spec2 (OLS)"
   ]
  },
  {
   "cell_type": "markdown",
   "metadata": {},
   "source": [
    "df4 spec2(OLS)"
   ]
  },
  {
   "cell_type": "markdown",
   "metadata": {},
   "source": [
    "df1 spec3 (OLS)"
   ]
  },
  {
   "cell_type": "markdown",
   "metadata": {},
   "source": [
    "df1 spec4 (OLS)"
   ]
  },
  {
   "cell_type": "markdown",
   "metadata": {},
   "source": [
    "df1 spec5 (OLS)"
   ]
  },
  {
   "cell_type": "markdown",
   "metadata": {},
   "source": [
    "df4 spec5 (OLS)"
   ]
  },
  {
   "cell_type": "markdown",
   "metadata": {},
   "source": [
    "## Regression function (PPML)\n",
    "- We define a ```run_reg_ppml``` function which takes three dataframes: the outcome variable, the regressors, and the entire data matrix.\n",
    "- This function returns a dataframe containing a 'prediction' column, so it can be chained with animation"
   ]
  },
  {
   "cell_type": "code",
   "execution_count": 12,
   "metadata": {},
   "outputs": [],
   "source": [
    "#Regression function for PPML\n",
    "def run_reg_ppml():\n",
    "    pass"
   ]
  },
  {
   "cell_type": "markdown",
   "metadata": {},
   "source": [
    "df1 spec1 (PPML)"
   ]
  },
  {
   "cell_type": "markdown",
   "metadata": {},
   "source": [
    "df4 spec1 (PPML)"
   ]
  },
  {
   "cell_type": "markdown",
   "metadata": {},
   "source": [
    "df1 spec5 (PPML)"
   ]
  },
  {
   "cell_type": "markdown",
   "metadata": {},
   "source": [
    "df4 spec5 (PPML)"
   ]
  }
 ],
 "metadata": {
  "kernelspec": {
   "display_name": "Python 3",
   "language": "python",
   "name": "python3"
  },
  "language_info": {
   "codemirror_mode": {
    "name": "ipython",
    "version": 3
   },
   "file_extension": ".py",
   "mimetype": "text/x-python",
   "name": "python",
   "nbconvert_exporter": "python",
   "pygments_lexer": "ipython3",
   "version": "3.8.5"
  }
 },
 "nbformat": 4,
 "nbformat_minor": 4
}
