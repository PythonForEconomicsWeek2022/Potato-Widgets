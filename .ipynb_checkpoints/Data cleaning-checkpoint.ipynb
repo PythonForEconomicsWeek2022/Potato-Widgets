{
 "cells": [
  {
   "cell_type": "markdown",
   "metadata": {},
   "source": [
    "## Import dataset from locally stored CEPII database"
   ]
  },
  {
   "cell_type": "code",
   "execution_count": 25,
   "metadata": {},
   "outputs": [],
   "source": [
    "import pandas as pd\n",
    "\n",
    "data = pd.read_csv('gravity.csv', low_memory=False)"
   ]
  },
  {
   "cell_type": "markdown",
   "metadata": {},
   "source": [
    "## __Data cleaning procedures:__\n",
    "- Isolate the columns\n",
    "- Eliminate all rows for missing data for key variables\n",
    "- Create columns needed for regression\n"
   ]
  },
  {
   "cell_type": "code",
   "execution_count": 26,
   "metadata": {},
   "outputs": [],
   "source": [
    "#Isolating the desired columns\n",
    "columns = ['year', 'iso3_o', 'iso3_d', 'distw', 'comlang_off', 'comlang_ethno', 'comcol', 'col45','heg_o', 'heg_d', 'col_dep_ever', 'sibling_ever', 'gdp_o', 'gdp_d', 'wto_o', 'wto_d', 'eu_o', 'eu_d',\n",
    "       'rta', 'rta_coverage', 'rta_type', 'tradeflow_comtrade_o', 'tradeflow_comtrade_d', 'tradeflow_baci', 'tradeflow_imf_o', 'tradeflow_imf_d']\n",
    "df = data[columns].copy()"
   ]
  },
  {
   "cell_type": "code",
   "execution_count": 27,
   "metadata": {},
   "outputs": [],
   "source": [
    "#We have that there are 5 different methods of measuring tradeflow, we hence take an average to erradicate the issues of missing values\n",
    "pd.options.mode.chained_assignment = None\n",
    "df['tradeflow'] = df[['tradeflow_comtrade_o', 'tradeflow_comtrade_d', 'tradeflow_baci', 'tradeflow_imf_o', 'tradeflow_imf_d']].mean(axis=1)\n",
    "df = df.drop(['tradeflow_comtrade_o', 'tradeflow_comtrade_d', 'tradeflow_baci', 'tradeflow_imf_o', 'tradeflow_imf_d'], axis=1)"
   ]
  },
  {
   "cell_type": "code",
   "execution_count": 28,
   "metadata": {
    "scrolled": true
   },
   "outputs": [],
   "source": [
    "#Drop all the rows where any of the fundamental variables in the gravity equation are missing and impute remaining missing tradeflow data\n",
    "df = df.drop(df[df['gdp_o'].isna() | df['gdp_d'].isna() | df['distw'].isna()].index)\n",
    "df = df.drop(df[df['iso3_o'] == df['iso3_d']].index)\n",
    "df['tradeflow'] = df['tradeflow'].fillna(1)\n",
    "df[['tradeflow', 'gdp_o', 'gdp_d', 'distw']] = df[['tradeflow', 'gdp_o', 'gdp_d', 'distw']].replace(0,1)"
   ]
  },
  {
   "cell_type": "code",
   "execution_count": 29,
   "metadata": {},
   "outputs": [],
   "source": [
    "#Create dummy for origin and destination being EU countries\n",
    "df['both_eu'] = (df['eu_o'] == 1) & (df['eu_d'] == 1)\n",
    "df['both_eu'] = df['both_eu'].astype(int)"
   ]
  },
  {
   "cell_type": "code",
   "execution_count": 30,
   "metadata": {},
   "outputs": [],
   "source": [
    "#Create dummy for either being EU country\n",
    "df['one_eu'] = (((df['eu_o'] == 1) | (df['eu_d'] == 1)) & (df['both_eu'] == 0))\n",
    "df['one_eu'] = df['one_eu'].astype(int)"
   ]
  },
  {
   "cell_type": "code",
   "execution_count": 31,
   "metadata": {},
   "outputs": [],
   "source": [
    "df = df.drop(['eu_o','eu_d'], axis=1)"
   ]
  },
  {
   "cell_type": "code",
   "execution_count": 32,
   "metadata": {},
   "outputs": [],
   "source": [
    "#Fill in missing values as these were all between China/Taiwan/Hong Kong\n",
    "df['heg_o'] = df['heg_o'].fillna(0)\n",
    "df['heg_d'] = df['heg_d'].fillna(0)\n",
    "df['col_dep_ever'] = df['col_dep_ever'].fillna(0)\n",
    "df['sibling_ever'] = df['sibling_ever'].fillna(0)"
   ]
  },
  {
   "cell_type": "code",
   "execution_count": 35,
   "metadata": {},
   "outputs": [],
   "source": [
    "#Export cleaned data\n",
    "df.to_csv('cleaned.csv', index=False)"
   ]
  },
  {
   "cell_type": "code",
   "execution_count": 34,
   "metadata": {
    "collapsed": true
   },
   "outputs": [
    {
     "data": {
      "text/plain": [
       "year             0\n",
       "iso3_o           0\n",
       "iso3_d           0\n",
       "distw            0\n",
       "comlang_off      0\n",
       "comlang_ethno    0\n",
       "comcol           0\n",
       "col45            0\n",
       "heg_o            0\n",
       "heg_d            0\n",
       "col_dep_ever     0\n",
       "sibling_ever     0\n",
       "gdp_o            0\n",
       "gdp_d            0\n",
       "wto_o            0\n",
       "wto_d            0\n",
       "rta              0\n",
       "rta_coverage     0\n",
       "rta_type         0\n",
       "tradeflow        0\n",
       "both_eu          0\n",
       "one_eu           0\n",
       "dtype: int64"
      ]
     },
     "execution_count": 34,
     "metadata": {},
     "output_type": "execute_result"
    }
   ],
   "source": [
    "df.isna().sum()"
   ]
  }
 ],
 "metadata": {
  "kernelspec": {
   "display_name": "Python 3",
   "language": "python",
   "name": "python3"
  },
  "language_info": {
   "codemirror_mode": {
    "name": "ipython",
    "version": 3
   },
   "file_extension": ".py",
   "mimetype": "text/x-python",
   "name": "python",
   "nbconvert_exporter": "python",
   "pygments_lexer": "ipython3",
   "version": "3.8.5"
  }
 },
 "nbformat": 4,
 "nbformat_minor": 4
}
