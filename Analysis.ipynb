{
 "cells": [
  {
   "cell_type": "markdown",
   "metadata": {},
   "source": [
    "## We require four subsets for the regression analysis\n",
    "- All data\n",
    "- Countries with above average trade with UK\n",
    "- OECD countries\n",
    "- EU countries"
   ]
  },
  {
   "cell_type": "code",
   "execution_count": 87,
   "metadata": {
    "scrolled": false
   },
   "outputs": [],
   "source": [
    "import pandas as pd\n",
    "\n",
    "df = pd.read_csv('cleaned.csv')"
   ]
  },
  {
   "cell_type": "code",
   "execution_count": 12,
   "metadata": {},
   "outputs": [],
   "source": [
    "df1 = df.copy()"
   ]
  },
  {
   "cell_type": "code",
   "execution_count": 13,
   "metadata": {},
   "outputs": [],
   "source": [
    "#We define a descending list of average trade with UK and use it to get subset 2\n",
    "import math\n",
    "\n",
    "tradeflows = df[df['iso3_d'] == 'GBR'].groupby('iso3_o').mean()['tradeflow'].sort_values(ascending=False)\n",
    "above_average = list(tradeflows[0:math.floor(len(tradeflows)/2)].index)\n",
    "\n",
    "df2 = df[(df['iso3_d'] == 'GBR') & df['iso3_o'].isin(above_average)].copy()"
   ]
  },
  {
   "cell_type": "code",
   "execution_count": 14,
   "metadata": {},
   "outputs": [],
   "source": [
    "#Creating subset 3, using a list of all OECD countries (with iso codes)\n",
    "OECD = ['AUS', 'AUT', 'BEL', 'CAN','CHE', 'CHL', 'COL', 'CRI', 'CZE', 'DEU', 'DNK', 'ESP', 'EST', 'FIN', 'FRA', 'GBR', 'GRC', 'HUN', 'IRL', 'ISL', 'ISR', 'ITA', 'JPN', 'KOR', 'LTU', 'LUX', 'LVA', 'MEX', 'NLD', 'NOR', 'NZL', 'POL', 'PRT', 'SVK', 'SVN', 'SWE', 'TUR', 'USA']\n",
    "\n",
    "df3 = df[df['iso3_o'].isin(OECD) & df['iso3_d'].isin(OECD)].copy()"
   ]
  },
  {
   "cell_type": "code",
   "execution_count": 15,
   "metadata": {
    "scrolled": false
   },
   "outputs": [],
   "source": [
    "#Creating subset 4\n",
    "df4 = df[df['both_eu'] == 1].copy()"
   ]
  },
  {
   "cell_type": "markdown",
   "metadata": {},
   "source": [
    "## De-meaning for fixed effects regression\n",
    "- In the fixed effects model, we include importer and exporter dummies for each time period\n",
    "- There will be approximately 20,000 dummies if estimated directly, so use double de-meaning instead\n",
    "- We de-mean in the exporter (origin) dimension first, and then the importer (destination) dimension"
   ]
  },
  {
   "cell_type": "code",
   "execution_count": 110,
   "metadata": {},
   "outputs": [],
   "source": [
    "# Select all columns containing bilateral regressors\n",
    "cols = ['year', 'iso3_o', 'iso3_d', 'distw', 'comlang_off', 'comlang_ethno', 'comcol', 'col45', 'col_dep_ever', 'sibling_ever',\n",
    "       'rta', 'rta_coverage', 'rta_type', 'tradeflow', 'both_eu', 'one_eu']\n",
    "regressors = list(set(cols)-set(['year', 'iso3_o','iso3_d']))\n",
    "\n",
    "df_fe = pd.read_csv('cleaned_fe.csv')[cols]\n",
    "\n",
    "o_means = df_fe.groupby(['iso3_o', 'year']).mean()[regressors]\n",
    "o_means = o_means.reset_index()\n",
    "o_means = pd.merge(df_fe[['year', 'iso3_o']],o_means,how='left',on=['year', 'iso3_o'])"
   ]
  },
  {
   "cell_type": "code",
   "execution_count": 111,
   "metadata": {},
   "outputs": [],
   "source": [
    "demeaned_o = df_fe.copy()\n",
    "demeaned_o[regressors] = df_fe[regressors]-o_means[regressors]"
   ]
  },
  {
   "cell_type": "code",
   "execution_count": 112,
   "metadata": {},
   "outputs": [],
   "source": [
    "d_means = demeaned_o.groupby(['iso3_d', 'year']).mean()[regressors]\n",
    "d_means = d_means.reset_index()\n",
    "d_means = pd.merge(demeaned_o[['year','iso3_d']],d_means,how='left',on=['year','iso3_d'])"
   ]
  },
  {
   "cell_type": "code",
   "execution_count": 113,
   "metadata": {},
   "outputs": [],
   "source": [
    "demeaned_o_d = demeaned_o.copy()\n",
    "demeaned_o_d[regressors] = demeaned_o[regressors]-d_means[regressors]"
   ]
  }
 ],
 "metadata": {
  "kernelspec": {
   "display_name": "Python 3",
   "language": "python",
   "name": "python3"
  },
  "language_info": {
   "codemirror_mode": {
    "name": "ipython",
    "version": 3
   },
   "file_extension": ".py",
   "mimetype": "text/x-python",
   "name": "python",
   "nbconvert_exporter": "python",
   "pygments_lexer": "ipython3",
   "version": "3.8.5"
  }
 },
 "nbformat": 4,
 "nbformat_minor": 4
}
